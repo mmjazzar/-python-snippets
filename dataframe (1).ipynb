{
 "cells": [
  {
   "cell_type": "code",
   "execution_count": 27,
   "metadata": {
    "collapsed": true
   },
   "outputs": [],
   "source": [
    "import numpy as np\n",
    "import pandas as pd\n",
    "from pandas import Series,DataFrame\n",
    "from numpy.random import randn"
   ]
  },
  {
   "cell_type": "code",
   "execution_count": 30,
   "metadata": {},
   "outputs": [
    {
     "data": {
      "text/plain": [
       "a    1\n",
       "b    2\n",
       "c    3\n",
       "d    4\n",
       "dtype: int64"
      ]
     },
     "execution_count": 30,
     "metadata": {},
     "output_type": "execute_result"
    }
   ],
   "source": [
    "ser1 = Series([1,2,3,4],index=['a','b','c','d'])\n",
    "ser1"
   ]
  },
  {
   "cell_type": "code",
   "execution_count": 36,
   "metadata": {},
   "outputs": [
    {
     "data": {
      "text/html": [
       "<div>\n",
       "<style>\n",
       "    .dataframe thead tr:only-child th {\n",
       "        text-align: right;\n",
       "    }\n",
       "\n",
       "    .dataframe thead th {\n",
       "        text-align: left;\n",
       "    }\n",
       "\n",
       "    .dataframe tbody tr th {\n",
       "        vertical-align: top;\n",
       "    }\n",
       "</style>\n",
       "<table border=\"1\" class=\"dataframe\">\n",
       "  <thead>\n",
       "    <tr style=\"text-align: right;\">\n",
       "      <th></th>\n",
       "      <th>c1</th>\n",
       "      <th>c2</th>\n",
       "      <th>c3</th>\n",
       "      <th>c4</th>\n",
       "      <th>c5</th>\n",
       "    </tr>\n",
       "  </thead>\n",
       "  <tbody>\n",
       "    <tr>\n",
       "      <th>r1</th>\n",
       "      <td>-1.435074</td>\n",
       "      <td>0.094562</td>\n",
       "      <td>0.733958</td>\n",
       "      <td>0.421399</td>\n",
       "      <td>-0.769504</td>\n",
       "    </tr>\n",
       "    <tr>\n",
       "      <th>r2</th>\n",
       "      <td>0.772327</td>\n",
       "      <td>0.863228</td>\n",
       "      <td>-0.813636</td>\n",
       "      <td>1.653463</td>\n",
       "      <td>0.509926</td>\n",
       "    </tr>\n",
       "    <tr>\n",
       "      <th>r3</th>\n",
       "      <td>-0.746869</td>\n",
       "      <td>-1.487702</td>\n",
       "      <td>0.430145</td>\n",
       "      <td>1.114692</td>\n",
       "      <td>0.364825</td>\n",
       "    </tr>\n",
       "    <tr>\n",
       "      <th>r4</th>\n",
       "      <td>-0.085686</td>\n",
       "      <td>0.550287</td>\n",
       "      <td>1.124544</td>\n",
       "      <td>1.189991</td>\n",
       "      <td>0.763471</td>\n",
       "    </tr>\n",
       "    <tr>\n",
       "      <th>r5</th>\n",
       "      <td>-0.120326</td>\n",
       "      <td>-0.319852</td>\n",
       "      <td>-0.551670</td>\n",
       "      <td>-0.560431</td>\n",
       "      <td>-0.046809</td>\n",
       "    </tr>\n",
       "  </tbody>\n",
       "</table>\n",
       "</div>"
      ],
      "text/plain": [
       "          c1        c2        c3        c4        c5\n",
       "r1 -1.435074  0.094562  0.733958  0.421399 -0.769504\n",
       "r2  0.772327  0.863228 -0.813636  1.653463  0.509926\n",
       "r3 -0.746869 -1.487702  0.430145  1.114692  0.364825\n",
       "r4 -0.085686  0.550287  1.124544  1.189991  0.763471\n",
       "r5 -0.120326 -0.319852 -0.551670 -0.560431 -0.046809"
      ]
     },
     "execution_count": 36,
     "metadata": {},
     "output_type": "execute_result"
    }
   ],
   "source": [
    "dframe = DataFrame(randn(25).reshape(5,5),index = ['r1','r2','r3','r4','r5'],columns=['c1','c2','c3','c4','c5'])\n",
    "dframe"
   ]
  },
  {
   "cell_type": "code",
   "execution_count": 37,
   "metadata": {},
   "outputs": [
    {
     "data": {
      "text/html": [
       "<div>\n",
       "<style>\n",
       "    .dataframe thead tr:only-child th {\n",
       "        text-align: right;\n",
       "    }\n",
       "\n",
       "    .dataframe thead th {\n",
       "        text-align: left;\n",
       "    }\n",
       "\n",
       "    .dataframe tbody tr th {\n",
       "        vertical-align: top;\n",
       "    }\n",
       "</style>\n",
       "<table border=\"1\" class=\"dataframe\">\n",
       "  <thead>\n",
       "    <tr style=\"text-align: right;\">\n",
       "      <th></th>\n",
       "      <th>c1</th>\n",
       "      <th>c2</th>\n",
       "      <th>c3</th>\n",
       "      <th>c4</th>\n",
       "      <th>c5</th>\n",
       "    </tr>\n",
       "  </thead>\n",
       "  <tbody>\n",
       "    <tr>\n",
       "      <th>r1</th>\n",
       "      <td>-1.435074</td>\n",
       "      <td>0.094562</td>\n",
       "      <td>0.733958</td>\n",
       "      <td>0.421399</td>\n",
       "      <td>-0.769504</td>\n",
       "    </tr>\n",
       "    <tr>\n",
       "      <th>r3</th>\n",
       "      <td>-0.746869</td>\n",
       "      <td>-1.487702</td>\n",
       "      <td>0.430145</td>\n",
       "      <td>1.114692</td>\n",
       "      <td>0.364825</td>\n",
       "    </tr>\n",
       "    <tr>\n",
       "      <th>r4</th>\n",
       "      <td>-0.085686</td>\n",
       "      <td>0.550287</td>\n",
       "      <td>1.124544</td>\n",
       "      <td>1.189991</td>\n",
       "      <td>0.763471</td>\n",
       "    </tr>\n",
       "    <tr>\n",
       "      <th>r5</th>\n",
       "      <td>-0.120326</td>\n",
       "      <td>-0.319852</td>\n",
       "      <td>-0.551670</td>\n",
       "      <td>-0.560431</td>\n",
       "      <td>-0.046809</td>\n",
       "    </tr>\n",
       "  </tbody>\n",
       "</table>\n",
       "</div>"
      ],
      "text/plain": [
       "          c1        c2        c3        c4        c5\n",
       "r1 -1.435074  0.094562  0.733958  0.421399 -0.769504\n",
       "r3 -0.746869 -1.487702  0.430145  1.114692  0.364825\n",
       "r4 -0.085686  0.550287  1.124544  1.189991  0.763471\n",
       "r5 -0.120326 -0.319852 -0.551670 -0.560431 -0.046809"
      ]
     },
     "execution_count": 37,
     "metadata": {},
     "output_type": "execute_result"
    }
   ],
   "source": [
    "dframe.drop('r2')"
   ]
  },
  {
   "cell_type": "code",
   "execution_count": 39,
   "metadata": {},
   "outputs": [
    {
     "data": {
      "text/plain": [
       "r1   -1.435074\n",
       "r2    0.772327\n",
       "r3   -0.746869\n",
       "r4   -0.085686\n",
       "r5   -0.120326\n",
       "Name: c1, dtype: float64"
      ]
     },
     "execution_count": 39,
     "metadata": {},
     "output_type": "execute_result"
    }
   ],
   "source": [
    "dframe['c1']"
   ]
  },
  {
   "cell_type": "code",
   "execution_count": 44,
   "metadata": {},
   "outputs": [
    {
     "data": {
      "text/html": [
       "<div>\n",
       "<style>\n",
       "    .dataframe thead tr:only-child th {\n",
       "        text-align: right;\n",
       "    }\n",
       "\n",
       "    .dataframe thead th {\n",
       "        text-align: left;\n",
       "    }\n",
       "\n",
       "    .dataframe tbody tr th {\n",
       "        vertical-align: top;\n",
       "    }\n",
       "</style>\n",
       "<table border=\"1\" class=\"dataframe\">\n",
       "  <thead>\n",
       "    <tr style=\"text-align: right;\">\n",
       "      <th></th>\n",
       "      <th>c1</th>\n",
       "      <th>c2</th>\n",
       "      <th>c3</th>\n",
       "      <th>c4</th>\n",
       "      <th>c5</th>\n",
       "    </tr>\n",
       "  </thead>\n",
       "  <tbody>\n",
       "    <tr>\n",
       "      <th>r1</th>\n",
       "      <td>-1.435074</td>\n",
       "      <td>0.094562</td>\n",
       "      <td>0.733958</td>\n",
       "      <td>0.421399</td>\n",
       "      <td>-0.769504</td>\n",
       "    </tr>\n",
       "    <tr>\n",
       "      <th>r2</th>\n",
       "      <td>0.772327</td>\n",
       "      <td>0.863228</td>\n",
       "      <td>-0.813636</td>\n",
       "      <td>1.653463</td>\n",
       "      <td>0.509926</td>\n",
       "    </tr>\n",
       "    <tr>\n",
       "      <th>r3</th>\n",
       "      <td>-0.746869</td>\n",
       "      <td>-1.487702</td>\n",
       "      <td>0.430145</td>\n",
       "      <td>1.114692</td>\n",
       "      <td>0.364825</td>\n",
       "    </tr>\n",
       "  </tbody>\n",
       "</table>\n",
       "</div>"
      ],
      "text/plain": [
       "          c1        c2        c3        c4        c5\n",
       "r1 -1.435074  0.094562  0.733958  0.421399 -0.769504\n",
       "r2  0.772327  0.863228 -0.813636  1.653463  0.509926\n",
       "r3 -0.746869 -1.487702  0.430145  1.114692  0.364825"
      ]
     },
     "execution_count": 44,
     "metadata": {},
     "output_type": "execute_result"
    }
   ],
   "source": [
    "dframe[0:3]"
   ]
  },
  {
   "cell_type": "code",
   "execution_count": 46,
   "metadata": {},
   "outputs": [
    {
     "data": {
      "text/html": [
       "<div>\n",
       "<style>\n",
       "    .dataframe thead tr:only-child th {\n",
       "        text-align: right;\n",
       "    }\n",
       "\n",
       "    .dataframe thead th {\n",
       "        text-align: left;\n",
       "    }\n",
       "\n",
       "    .dataframe tbody tr th {\n",
       "        vertical-align: top;\n",
       "    }\n",
       "</style>\n",
       "<table border=\"1\" class=\"dataframe\">\n",
       "  <thead>\n",
       "    <tr style=\"text-align: right;\">\n",
       "      <th></th>\n",
       "      <th>c1</th>\n",
       "      <th>c2</th>\n",
       "    </tr>\n",
       "  </thead>\n",
       "  <tbody>\n",
       "    <tr>\n",
       "      <th>r1</th>\n",
       "      <td>-1.435074</td>\n",
       "      <td>0.094562</td>\n",
       "    </tr>\n",
       "    <tr>\n",
       "      <th>r2</th>\n",
       "      <td>0.772327</td>\n",
       "      <td>0.863228</td>\n",
       "    </tr>\n",
       "    <tr>\n",
       "      <th>r3</th>\n",
       "      <td>-0.746869</td>\n",
       "      <td>-1.487702</td>\n",
       "    </tr>\n",
       "    <tr>\n",
       "      <th>r4</th>\n",
       "      <td>-0.085686</td>\n",
       "      <td>0.550287</td>\n",
       "    </tr>\n",
       "    <tr>\n",
       "      <th>r5</th>\n",
       "      <td>-0.120326</td>\n",
       "      <td>-0.319852</td>\n",
       "    </tr>\n",
       "  </tbody>\n",
       "</table>\n",
       "</div>"
      ],
      "text/plain": [
       "          c1        c2\n",
       "r1 -1.435074  0.094562\n",
       "r2  0.772327  0.863228\n",
       "r3 -0.746869 -1.487702\n",
       "r4 -0.085686  0.550287\n",
       "r5 -0.120326 -0.319852"
      ]
     },
     "execution_count": 46,
     "metadata": {},
     "output_type": "execute_result"
    }
   ],
   "source": [
    "dframe[['c1','c2']]"
   ]
  },
  {
   "cell_type": "code",
   "execution_count": 49,
   "metadata": {},
   "outputs": [
    {
     "data": {
      "text/html": [
       "<div>\n",
       "<style>\n",
       "    .dataframe thead tr:only-child th {\n",
       "        text-align: right;\n",
       "    }\n",
       "\n",
       "    .dataframe thead th {\n",
       "        text-align: left;\n",
       "    }\n",
       "\n",
       "    .dataframe tbody tr th {\n",
       "        vertical-align: top;\n",
       "    }\n",
       "</style>\n",
       "<table border=\"1\" class=\"dataframe\">\n",
       "  <thead>\n",
       "    <tr style=\"text-align: right;\">\n",
       "      <th></th>\n",
       "      <th>c1</th>\n",
       "      <th>c2</th>\n",
       "      <th>c3</th>\n",
       "      <th>c4</th>\n",
       "      <th>c5</th>\n",
       "    </tr>\n",
       "  </thead>\n",
       "  <tbody>\n",
       "    <tr>\n",
       "      <th>r1</th>\n",
       "      <td>NaN</td>\n",
       "      <td>NaN</td>\n",
       "      <td>NaN</td>\n",
       "      <td>NaN</td>\n",
       "      <td>NaN</td>\n",
       "    </tr>\n",
       "    <tr>\n",
       "      <th>r2</th>\n",
       "      <td>NaN</td>\n",
       "      <td>NaN</td>\n",
       "      <td>NaN</td>\n",
       "      <td>1.653463</td>\n",
       "      <td>NaN</td>\n",
       "    </tr>\n",
       "    <tr>\n",
       "      <th>r3</th>\n",
       "      <td>NaN</td>\n",
       "      <td>NaN</td>\n",
       "      <td>NaN</td>\n",
       "      <td>1.114692</td>\n",
       "      <td>NaN</td>\n",
       "    </tr>\n",
       "    <tr>\n",
       "      <th>r4</th>\n",
       "      <td>NaN</td>\n",
       "      <td>NaN</td>\n",
       "      <td>1.124544</td>\n",
       "      <td>1.189991</td>\n",
       "      <td>NaN</td>\n",
       "    </tr>\n",
       "    <tr>\n",
       "      <th>r5</th>\n",
       "      <td>NaN</td>\n",
       "      <td>NaN</td>\n",
       "      <td>NaN</td>\n",
       "      <td>NaN</td>\n",
       "      <td>NaN</td>\n",
       "    </tr>\n",
       "  </tbody>\n",
       "</table>\n",
       "</div>"
      ],
      "text/plain": [
       "    c1  c2        c3        c4  c5\n",
       "r1 NaN NaN       NaN       NaN NaN\n",
       "r2 NaN NaN       NaN  1.653463 NaN\n",
       "r3 NaN NaN       NaN  1.114692 NaN\n",
       "r4 NaN NaN  1.124544  1.189991 NaN\n",
       "r5 NaN NaN       NaN       NaN NaN"
      ]
     },
     "execution_count": 49,
     "metadata": {},
     "output_type": "execute_result"
    }
   ],
   "source": [
    "dframe[dframe> 1]"
   ]
  },
  {
   "cell_type": "code",
   "execution_count": 52,
   "metadata": {},
   "outputs": [
    {
     "data": {
      "text/html": [
       "<div>\n",
       "<style>\n",
       "    .dataframe thead tr:only-child th {\n",
       "        text-align: right;\n",
       "    }\n",
       "\n",
       "    .dataframe thead th {\n",
       "        text-align: left;\n",
       "    }\n",
       "\n",
       "    .dataframe tbody tr th {\n",
       "        vertical-align: top;\n",
       "    }\n",
       "</style>\n",
       "<table border=\"1\" class=\"dataframe\">\n",
       "  <thead>\n",
       "    <tr style=\"text-align: right;\">\n",
       "      <th></th>\n",
       "      <th>c1</th>\n",
       "      <th>c2</th>\n",
       "      <th>c3</th>\n",
       "      <th>c4</th>\n",
       "      <th>c5</th>\n",
       "    </tr>\n",
       "  </thead>\n",
       "  <tbody>\n",
       "    <tr>\n",
       "      <th>count</th>\n",
       "      <td>5.000000</td>\n",
       "      <td>5.000000</td>\n",
       "      <td>5.000000</td>\n",
       "      <td>5.000000</td>\n",
       "      <td>5.000000</td>\n",
       "    </tr>\n",
       "    <tr>\n",
       "      <th>mean</th>\n",
       "      <td>-0.323125</td>\n",
       "      <td>-0.059895</td>\n",
       "      <td>0.184668</td>\n",
       "      <td>0.763823</td>\n",
       "      <td>0.164382</td>\n",
       "    </tr>\n",
       "    <tr>\n",
       "      <th>std</th>\n",
       "      <td>0.823637</td>\n",
       "      <td>0.915771</td>\n",
       "      <td>0.834288</td>\n",
       "      <td>0.861263</td>\n",
       "      <td>0.599005</td>\n",
       "    </tr>\n",
       "    <tr>\n",
       "      <th>min</th>\n",
       "      <td>-1.435074</td>\n",
       "      <td>-1.487702</td>\n",
       "      <td>-0.813636</td>\n",
       "      <td>-0.560431</td>\n",
       "      <td>-0.769504</td>\n",
       "    </tr>\n",
       "    <tr>\n",
       "      <th>25%</th>\n",
       "      <td>-0.746869</td>\n",
       "      <td>-0.319852</td>\n",
       "      <td>-0.551670</td>\n",
       "      <td>0.421399</td>\n",
       "      <td>-0.046809</td>\n",
       "    </tr>\n",
       "    <tr>\n",
       "      <th>50%</th>\n",
       "      <td>-0.120326</td>\n",
       "      <td>0.094562</td>\n",
       "      <td>0.430145</td>\n",
       "      <td>1.114692</td>\n",
       "      <td>0.364825</td>\n",
       "    </tr>\n",
       "    <tr>\n",
       "      <th>75%</th>\n",
       "      <td>-0.085686</td>\n",
       "      <td>0.550287</td>\n",
       "      <td>0.733958</td>\n",
       "      <td>1.189991</td>\n",
       "      <td>0.509926</td>\n",
       "    </tr>\n",
       "    <tr>\n",
       "      <th>max</th>\n",
       "      <td>0.772327</td>\n",
       "      <td>0.863228</td>\n",
       "      <td>1.124544</td>\n",
       "      <td>1.653463</td>\n",
       "      <td>0.763471</td>\n",
       "    </tr>\n",
       "  </tbody>\n",
       "</table>\n",
       "</div>"
      ],
      "text/plain": [
       "             c1        c2        c3        c4        c5\n",
       "count  5.000000  5.000000  5.000000  5.000000  5.000000\n",
       "mean  -0.323125 -0.059895  0.184668  0.763823  0.164382\n",
       "std    0.823637  0.915771  0.834288  0.861263  0.599005\n",
       "min   -1.435074 -1.487702 -0.813636 -0.560431 -0.769504\n",
       "25%   -0.746869 -0.319852 -0.551670  0.421399 -0.046809\n",
       "50%   -0.120326  0.094562  0.430145  1.114692  0.364825\n",
       "75%   -0.085686  0.550287  0.733958  1.189991  0.509926\n",
       "max    0.772327  0.863228  1.124544  1.653463  0.763471"
      ]
     },
     "execution_count": 52,
     "metadata": {},
     "output_type": "execute_result"
    }
   ],
   "source": [
    "dframe.describe()"
   ]
  },
  {
   "cell_type": "code",
   "execution_count": 56,
   "metadata": {},
   "outputs": [
    {
     "data": {
      "text/html": [
       "<div>\n",
       "<style>\n",
       "    .dataframe thead tr:only-child th {\n",
       "        text-align: right;\n",
       "    }\n",
       "\n",
       "    .dataframe thead th {\n",
       "        text-align: left;\n",
       "    }\n",
       "\n",
       "    .dataframe tbody tr th {\n",
       "        vertical-align: top;\n",
       "    }\n",
       "</style>\n",
       "<table border=\"1\" class=\"dataframe\">\n",
       "  <thead>\n",
       "    <tr style=\"text-align: right;\">\n",
       "      <th></th>\n",
       "      <th>c1</th>\n",
       "      <th>c2</th>\n",
       "      <th>c3</th>\n",
       "      <th>c4</th>\n",
       "      <th>c5</th>\n",
       "    </tr>\n",
       "  </thead>\n",
       "  <tbody>\n",
       "    <tr>\n",
       "      <th>r1</th>\n",
       "      <td>-1.435074</td>\n",
       "      <td>0.094562</td>\n",
       "      <td>0.733958</td>\n",
       "      <td>0.421399</td>\n",
       "      <td>-0.769504</td>\n",
       "    </tr>\n",
       "    <tr>\n",
       "      <th>r2</th>\n",
       "      <td>0.772327</td>\n",
       "      <td>0.863228</td>\n",
       "      <td>-0.813636</td>\n",
       "      <td>1.653463</td>\n",
       "      <td>0.509926</td>\n",
       "    </tr>\n",
       "    <tr>\n",
       "      <th>r3</th>\n",
       "      <td>-0.746869</td>\n",
       "      <td>-1.487702</td>\n",
       "      <td>0.430145</td>\n",
       "      <td>1.114692</td>\n",
       "      <td>0.364825</td>\n",
       "    </tr>\n",
       "    <tr>\n",
       "      <th>r4</th>\n",
       "      <td>-0.085686</td>\n",
       "      <td>0.550287</td>\n",
       "      <td>1.124544</td>\n",
       "      <td>1.189991</td>\n",
       "      <td>0.763471</td>\n",
       "    </tr>\n",
       "    <tr>\n",
       "      <th>r5</th>\n",
       "      <td>-0.120326</td>\n",
       "      <td>-0.319852</td>\n",
       "      <td>-0.551670</td>\n",
       "      <td>-0.560431</td>\n",
       "      <td>-0.046809</td>\n",
       "    </tr>\n",
       "  </tbody>\n",
       "</table>\n",
       "</div>"
      ],
      "text/plain": [
       "          c1        c2        c3        c4        c5\n",
       "r1 -1.435074  0.094562  0.733958  0.421399 -0.769504\n",
       "r2  0.772327  0.863228 -0.813636  1.653463  0.509926\n",
       "r3 -0.746869 -1.487702  0.430145  1.114692  0.364825\n",
       "r4 -0.085686  0.550287  1.124544  1.189991  0.763471\n",
       "r5 -0.120326 -0.319852 -0.551670 -0.560431 -0.046809"
      ]
     },
     "execution_count": 56,
     "metadata": {},
     "output_type": "execute_result"
    }
   ],
   "source": [
    "dframe.head()"
   ]
  },
  {
   "cell_type": "code",
   "execution_count": 57,
   "metadata": {},
   "outputs": [
    {
     "data": {
      "text/plain": [
       "<bound method DataFrame.corr of           c1        c2        c3        c4        c5\n",
       "r1 -1.435074  0.094562  0.733958  0.421399 -0.769504\n",
       "r2  0.772327  0.863228 -0.813636  1.653463  0.509926\n",
       "r3 -0.746869 -1.487702  0.430145  1.114692  0.364825\n",
       "r4 -0.085686  0.550287  1.124544  1.189991  0.763471\n",
       "r5 -0.120326 -0.319852 -0.551670 -0.560431 -0.046809>"
      ]
     },
     "execution_count": 57,
     "metadata": {},
     "output_type": "execute_result"
    }
   ],
   "source": [
    "dframe.corr"
   ]
  },
  {
   "cell_type": "code",
   "execution_count": 59,
   "metadata": {},
   "outputs": [
    {
     "data": {
      "text/plain": [
       "<matplotlib.axes._subplots.AxesSubplot at 0x194e1e5a278>"
      ]
     },
     "execution_count": 59,
     "metadata": {},
     "output_type": "execute_result"
    },
    {
     "data": {
      "image/png": "[encoded data removed]",
      "text/plain": [
       "<matplotlib.figure.Figure at 0x194e1e5ab70>"
      ]
     },
     "metadata": {},
     "output_type": "display_data"
    }
   ],
   "source": [
    "%matplotlib inline\n",
    "dframe.plot()\n"
   ]
  },
  {
   "cell_type": "code",
   "execution_count": 60,
   "metadata": {
    "collapsed": true
   },
   "outputs": [],
   "source": [
    "import seaborn as sns\n",
    "import matplotlib as plt\n"
   ]
  }
 ],
 "metadata": {
  "kernelspec": {
   "display_name": "Python 3",
   "language": "python",
   "name": "python3"
  },
  "language_info": {
   "codemirror_mode": {
    "name": "ipython",
    "version": 3
   },
   "file_extension": ".py",
   "mimetype": "text/x-python",
   "name": "python",
   "nbconvert_exporter": "python",
   "pygments_lexer": "ipython3",
   "version": "3.6.2"
  }
 },
 "nbformat": 4,
 "nbformat_minor": 2
}
